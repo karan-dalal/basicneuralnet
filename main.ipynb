{
  "nbformat": 4,
  "nbformat_minor": 0,
  "metadata": {
    "colab": {
      "provenance": [],
      "authorship_tag": "ABX9TyNAou84ot0PO61EU26Rm+R/",
      "include_colab_link": true
    },
    "kernelspec": {
      "name": "python3",
      "display_name": "Python 3"
    },
    "language_info": {
      "name": "python"
    }
  },
  "cells": [
    {
      "cell_type": "markdown",
      "metadata": {
        "id": "view-in-github",
        "colab_type": "text"
      },
      "source": [
        "<a href=\"https://colab.research.google.com/github/karan-dalal/basicneuralnet/blob/main/3_Neural_Network.ipynb\" target=\"_parent\"><img src=\"https://colab.research.google.com/assets/colab-badge.svg\" alt=\"Open In Colab\"/></a>"
      ]
    },
    {
      "cell_type": "code",
      "execution_count": null,
      "metadata": {
        "id": "bW2PYbIvK_ta"
      },
      "outputs": [],
      "source": [
        "import torch\n",
        "from torch import nn, optim\n",
        "from torch.utils.data import DataLoader\n",
        "from torchvision import datasets, transforms as T\n",
        "\n",
        "dtype = torch.float32\n",
        "print_every = 100\n",
        "device = 'cuda' if torch.cuda.is_available() else 'cpu'"
      ]
    },
    {
      "cell_type": "code",
      "source": [
        "def flatten(x):\n",
        "    N = x.shape[0]\n",
        "    return x.view(N, -1)  \n",
        "\n",
        "def check_accuracy_part34(loader, model):\n",
        "    if loader.dataset.train:\n",
        "        print('Checking accuracy on validation set')\n",
        "    else:\n",
        "        print('Checking accuracy on test set')   \n",
        "    num_correct = 0\n",
        "    num_samples = 0\n",
        "    model.eval()\n",
        "    with torch.no_grad():\n",
        "        for x, y in loader:\n",
        "            x = x.to(device=device, dtype=dtype)\n",
        "            y = y.to(device=device, dtype=torch.long)\n",
        "            scores = model(x)\n",
        "            _, preds = scores.max(1)\n",
        "            num_correct += (preds == y).sum()\n",
        "            num_samples += preds.size(0)\n",
        "        acc = float(num_correct) / num_samples\n",
        "        print('Got %d / %d correct (%.2f)' % (num_correct, num_samples, 100 * acc))\n",
        "    return acc\n",
        "\n",
        "def train_part34(model, optimizer, loader_train, loader_val, epochs=1):\n",
        "    \"\"\"\n",
        "    Train a model on CIFAR-10 using the PyTorch Module API and prints model \n",
        "    accuracies during training.\n",
        "    \n",
        "    Inputs:\n",
        "    - model: A PyTorch Module giving the model to train.\n",
        "    - optimizer: An Optimizer object we will use to train the model\n",
        "    - loader_train: Dataloader for training\n",
        "    - loader_val: Dataloader for evaluation\n",
        "    - epochs: (Optional) A Python integer giving the number of epochs to train for\n",
        "    \n",
        "    Returns: Lists of validation accuracies at the end of each epoch.\n",
        "    \"\"\"\n",
        "    loss_fn = nn.CrossEntropyLoss()\n",
        "    model = model.to(device=device)\n",
        "    train_accs = []\n",
        "    val_accs = []\n",
        "    for e in range(epochs):\n",
        "        for t, (x, y) in enumerate(loader_train):\n",
        "            model.train()\n",
        "            x = x.to(device=device, dtype=dtype)\n",
        "            y = y.to(device=device, dtype=torch.long)\n",
        "\n",
        "            scores = model(x)\n",
        "            loss = loss_fn(scores, y)\n",
        "            optimizer.zero_grad()\n",
        "            loss.backward()\n",
        "            optimizer.step()\n",
        "            if t % print_every == 0:\n",
        "                print('Iteration %d, loss = %.4f' % (t, loss.item()))\n",
        "                check_accuracy_part34(loader_val, model)\n",
        "                print()\n",
        "        val_accs.append(check_accuracy_part34(loader_val, model))\n",
        "    return val_accs"
      ],
      "metadata": {
        "id": "BH2o_uI3M2Av"
      },
      "execution_count": null,
      "outputs": []
    },
    {
      "cell_type": "code",
      "source": [
        "ds_train = datasets.MNIST('.', download = True, train = True, transform = T.ToTensor())\n",
        "loader_train = DataLoader(ds_train, batch_size = 32)\n",
        "ds_val = datasets.MNIST('.', download = True, train = False, transform = T.ToTensor())\n",
        "loader_val = DataLoader(ds_val)\n",
        "\n",
        "class Network(nn.Module):\n",
        "  def __init__(self):\n",
        "    super().__init__()\n",
        "    self.fc1 = nn.Linear(28 * 28, 256)\n",
        "    self.fc2 = nn.Linear(256, 10)\n",
        "    self.relu = nn.ReLU()\n",
        "\n",
        "\n",
        "  def forward(self, x):\n",
        "    x = flatten(x)\n",
        "    return self.fc2(self.relu(self.fc1(x)))\n",
        "\n",
        "model = Network()\n",
        "optimizer = optim.Adam(model.parameters())\n",
        "train_part34(model, optimizer, loader_train, loader_val)"
      ],
      "metadata": {
        "colab": {
          "base_uri": "https://localhost:8080/"
        },
        "id": "waDwJPjdMspi",
        "outputId": "7a88c71a-daaa-4feb-a398-790935a60d0e"
      },
      "execution_count": null,
      "outputs": [
        {
          "output_type": "stream",
          "name": "stdout",
          "text": [
            "Iteration 0, loss = 2.3157\n",
            "Checking accuracy on test set\n",
            "Got 1327 / 10000 correct (13.27)\n",
            "\n",
            "Iteration 100, loss = 0.4907\n",
            "Checking accuracy on test set\n",
            "Got 8773 / 10000 correct (87.73)\n",
            "\n",
            "Iteration 200, loss = 0.3601\n",
            "Checking accuracy on test set\n",
            "Got 8895 / 10000 correct (88.95)\n",
            "\n",
            "Iteration 300, loss = 0.2262\n",
            "Checking accuracy on test set\n",
            "Got 8992 / 10000 correct (89.92)\n",
            "\n",
            "Iteration 400, loss = 0.1882\n",
            "Checking accuracy on test set\n",
            "Got 9033 / 10000 correct (90.33)\n",
            "\n",
            "Iteration 500, loss = 0.3959\n",
            "Checking accuracy on test set\n",
            "Got 9292 / 10000 correct (92.92)\n",
            "\n",
            "Iteration 600, loss = 0.1790\n",
            "Checking accuracy on test set\n",
            "Got 9373 / 10000 correct (93.73)\n",
            "\n",
            "Iteration 700, loss = 0.1452\n",
            "Checking accuracy on test set\n",
            "Got 9371 / 10000 correct (93.71)\n",
            "\n",
            "Iteration 800, loss = 0.1414\n",
            "Checking accuracy on test set\n",
            "Got 9422 / 10000 correct (94.22)\n",
            "\n",
            "Iteration 900, loss = 0.1476\n",
            "Checking accuracy on test set\n",
            "Got 9434 / 10000 correct (94.34)\n",
            "\n",
            "Iteration 1000, loss = 0.4404\n",
            "Checking accuracy on test set\n",
            "Got 9442 / 10000 correct (94.42)\n",
            "\n",
            "Iteration 1100, loss = 0.2430\n",
            "Checking accuracy on test set\n",
            "Got 9484 / 10000 correct (94.84)\n",
            "\n",
            "Iteration 1200, loss = 0.1562\n",
            "Checking accuracy on test set\n",
            "Got 9436 / 10000 correct (94.36)\n",
            "\n",
            "Iteration 1300, loss = 0.1941\n",
            "Checking accuracy on test set\n",
            "Got 9420 / 10000 correct (94.20)\n",
            "\n",
            "Iteration 1400, loss = 0.2543\n",
            "Checking accuracy on test set\n",
            "Got 9552 / 10000 correct (95.52)\n",
            "\n",
            "Iteration 1500, loss = 0.1586\n",
            "Checking accuracy on test set\n",
            "Got 9505 / 10000 correct (95.05)\n",
            "\n",
            "Iteration 1600, loss = 0.2560\n",
            "Checking accuracy on test set\n",
            "Got 9529 / 10000 correct (95.29)\n",
            "\n",
            "Iteration 1700, loss = 0.0728\n",
            "Checking accuracy on test set\n",
            "Got 9556 / 10000 correct (95.56)\n",
            "\n",
            "Iteration 1800, loss = 0.1329\n",
            "Checking accuracy on test set\n",
            "Got 9631 / 10000 correct (96.31)\n",
            "\n",
            "Checking accuracy on test set\n",
            "Got 9577 / 10000 correct (95.77)\n"
          ]
        },
        {
          "output_type": "execute_result",
          "data": {
            "text/plain": [
              "[0.9577]"
            ]
          },
          "metadata": {},
          "execution_count": 20
        }
      ]
    }
  ]
}